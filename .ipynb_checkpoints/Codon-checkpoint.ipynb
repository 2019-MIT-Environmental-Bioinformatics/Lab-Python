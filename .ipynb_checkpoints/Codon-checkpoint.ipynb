{
 "cells": [
  {
   "cell_type": "code",
   "execution_count": 5,
   "metadata": {},
   "outputs": [],
   "source": [
    "import pandas as pd\n"
   ]
  },
  {
   "cell_type": "markdown",
   "metadata": {},
   "source": [
    "# Read in codon dictionary"
   ]
  },
  {
   "cell_type": "code",
   "execution_count": 38,
   "metadata": {},
   "outputs": [],
   "source": [
    "codon_dict = {}\n",
    "with open('codon-tables/std-code.tab', 'r') as f:\n",
    "    for line in f:\n",
    "        trip, aa1, code3 = line.strip().split(' ')\n",
    "        codon_dict[trip] = aa1"
   ]
  },
  {
   "cell_type": "markdown",
   "metadata": {},
   "source": [
    "## Homework : Read in codon diciontary with both 1 code letter and 3 code letter"
   ]
  },
  {
   "cell_type": "code",
   "execution_count": 39,
   "metadata": {},
   "outputs": [],
   "source": [
    "codon_dict_full = {}\n",
    "with open('codon-tables/std-code.tab', 'r') as f:\n",
    "    for line in f:\n",
    "        trip, aa1, code3 = line.strip().split(' ')\n",
    "        codon_dict_full[trip] = {'three-code': code3, 'one-code': aa1 }"
   ]
  },
  {
   "cell_type": "markdown",
   "metadata": {},
   "source": [
    "## Homework: Read in codon dictionary with pandas\n",
    "Make sure that the column names are appropriate. Set the codon column to be the index"
   ]
  },
  {
   "cell_type": "code",
   "execution_count": 15,
   "metadata": {},
   "outputs": [],
   "source": [
    "df = pd.read_csv('codon-tables/std-code.tab',sep=' ', header=None)\n",
    "df.columns=['codon', 'amino acid', 'protein']\n",
    "df = df.set_index('codon')"
   ]
  },
  {
   "cell_type": "markdown",
   "metadata": {},
   "source": [
    "## In class: write a function *together* to convert a given sequence to amino acids"
   ]
  },
  {
   "cell_type": "code",
   "execution_count": 28,
   "metadata": {},
   "outputs": [
    {
     "data": {
      "text/plain": [
       "'NADSFV'"
      ]
     },
     "execution_count": 28,
     "metadata": {},
     "output_type": "execute_result"
    }
   ],
   "source": [
    "def get_protein(sequence='AATGCTGACTCCTTCGTG'):\n",
    "## get protein sequence\n",
    "    protein=''\n",
    "    for i in range(0,len(sequence), 3):\n",
    "        codon = sequence[i:i+3]\n",
    "        protein += codon_dict[codon]\n",
    "    return(protein)\n",
    "get_protein()\n"
   ]
  },
  {
   "cell_type": "markdown",
   "metadata": {},
   "source": [
    "## In class: fix the function so that it can work with sequences that are not divisible by 3. \n",
    "\n"
   ]
  },
  {
   "cell_type": "code",
   "execution_count": 32,
   "metadata": {},
   "outputs": [
    {
     "data": {
      "text/plain": [
       "'NADSFV'"
      ]
     },
     "execution_count": 32,
     "metadata": {},
     "output_type": "execute_result"
    }
   ],
   "source": [
    "def get_protein(sequence='AATGCTGACTCCTTCGTG'):\n",
    "## get protein sequence\n",
    "    protein=''\n",
    "    for i in range(0,len(sequence), 3):\n",
    "        codon = sequence[i:i+3]\n",
    "        if len(codon)!=3:\n",
    "            pass\n",
    "        else:\n",
    "            protein += codon_dict[codon]\n",
    "    return(protein)\n",
    "get_protein()\n"
   ]
  },
  {
   "cell_type": "code",
   "execution_count": 67,
   "metadata": {},
   "outputs": [],
   "source": [
    "#In class: Limit input with assertion statement"
   ]
  },
  {
   "cell_type": "code",
   "execution_count": 68,
   "metadata": {},
   "outputs": [
    {
     "ename": "AssertionError",
     "evalue": "Sequence must consist only of A, C, T, G",
     "output_type": "error",
     "traceback": [
      "\u001b[0;31m---------------------------------------------------------------------------\u001b[0m",
      "\u001b[0;31mAssertionError\u001b[0m                            Traceback (most recent call last)",
      "\u001b[0;32m<ipython-input-68-5b926ca9d5bf>\u001b[0m in \u001b[0;36m<module>\u001b[0;34m\u001b[0m\n\u001b[1;32m     10\u001b[0m             \u001b[0mprotein\u001b[0m \u001b[0;34m+=\u001b[0m \u001b[0mcodon_dict\u001b[0m\u001b[0;34m[\u001b[0m\u001b[0mcodon\u001b[0m\u001b[0;34m]\u001b[0m\u001b[0;34m\u001b[0m\u001b[0;34m\u001b[0m\u001b[0m\n\u001b[1;32m     11\u001b[0m     \u001b[0;32mreturn\u001b[0m\u001b[0;34m(\u001b[0m\u001b[0mprotein\u001b[0m\u001b[0;34m)\u001b[0m\u001b[0;34m\u001b[0m\u001b[0;34m\u001b[0m\u001b[0m\n\u001b[0;32m---> 12\u001b[0;31m \u001b[0mget_protein\u001b[0m\u001b[0;34m(\u001b[0m\u001b[0;34m)\u001b[0m\u001b[0;34m\u001b[0m\u001b[0;34m\u001b[0m\u001b[0m\n\u001b[0m",
      "\u001b[0;32m<ipython-input-68-5b926ca9d5bf>\u001b[0m in \u001b[0;36mget_protein\u001b[0;34m(sequence)\u001b[0m\n\u001b[1;32m      1\u001b[0m \u001b[0;32mdef\u001b[0m \u001b[0mget_protein\u001b[0m\u001b[0;34m(\u001b[0m\u001b[0msequence\u001b[0m\u001b[0;34m=\u001b[0m\u001b[0;34m'AATGCTGACTCCTTCGTGQ'\u001b[0m\u001b[0;34m)\u001b[0m\u001b[0;34m:\u001b[0m\u001b[0;34m\u001b[0m\u001b[0;34m\u001b[0m\u001b[0m\n\u001b[1;32m      2\u001b[0m \u001b[0;31m## get protein sequence\u001b[0m\u001b[0;34m\u001b[0m\u001b[0;34m\u001b[0m\u001b[0;34m\u001b[0m\u001b[0m\n\u001b[0;32m----> 3\u001b[0;31m     \u001b[0;32massert\u001b[0m\u001b[0;34m(\u001b[0m\u001b[0mset\u001b[0m\u001b[0;34m(\u001b[0m\u001b[0msequence\u001b[0m\u001b[0;34m)\u001b[0m\u001b[0;34m.\u001b[0m\u001b[0missubset\u001b[0m\u001b[0;34m(\u001b[0m\u001b[0mset\u001b[0m\u001b[0;34m(\u001b[0m\u001b[0;34m[\u001b[0m\u001b[0;34m'A'\u001b[0m\u001b[0;34m,\u001b[0m \u001b[0;34m'C'\u001b[0m\u001b[0;34m,\u001b[0m\u001b[0;34m'T'\u001b[0m\u001b[0;34m,\u001b[0m\u001b[0;34m'G'\u001b[0m\u001b[0;34m]\u001b[0m\u001b[0;34m)\u001b[0m\u001b[0;34m)\u001b[0m\u001b[0;34m)\u001b[0m\u001b[0;34m,\u001b[0m \u001b[0;34m\"Sequence must consist only of A, C, T, G\"\u001b[0m\u001b[0;34m\u001b[0m\u001b[0;34m\u001b[0m\u001b[0m\n\u001b[0m\u001b[1;32m      4\u001b[0m     \u001b[0mprotein\u001b[0m\u001b[0;34m=\u001b[0m\u001b[0;34m''\u001b[0m\u001b[0;34m\u001b[0m\u001b[0;34m\u001b[0m\u001b[0m\n\u001b[1;32m      5\u001b[0m     \u001b[0;32mfor\u001b[0m \u001b[0mi\u001b[0m \u001b[0;32min\u001b[0m \u001b[0mrange\u001b[0m\u001b[0;34m(\u001b[0m\u001b[0;36m0\u001b[0m\u001b[0;34m,\u001b[0m\u001b[0mlen\u001b[0m\u001b[0;34m(\u001b[0m\u001b[0msequence\u001b[0m\u001b[0;34m)\u001b[0m\u001b[0;34m,\u001b[0m \u001b[0;36m3\u001b[0m\u001b[0;34m)\u001b[0m\u001b[0;34m:\u001b[0m\u001b[0;34m\u001b[0m\u001b[0;34m\u001b[0m\u001b[0m\n",
      "\u001b[0;31mAssertionError\u001b[0m: Sequence must consist only of A, C, T, G"
     ]
    }
   ],
   "source": [
    "def get_protein(sequence='AATGCTGACTCCTTCGTGQ'):\n",
    "## get protein sequence\n",
    "    assert(set(sequence).issubset(set(['A', 'C','T','G']))), \"Sequence must consist only of A, C, T, G\"\n",
    "    protein=''\n",
    "    for i in range(0,len(sequence), 3):\n",
    "        codon = sequence[i:i+3]\n",
    "        if len(codon)!=3:\n",
    "            pass\n",
    "        else:\n",
    "            protein += codon_dict[codon]\n",
    "    return(protein)\n",
    "get_protein()"
   ]
  },
  {
   "cell_type": "markdown",
   "metadata": {},
   "source": [
    "# In class: write a function together to reverse complement a DNA sequence "
   ]
  },
  {
   "cell_type": "code",
   "execution_count": 13,
   "metadata": {},
   "outputs": [
    {
     "data": {
      "text/plain": [
       "'CACGAAGGAGTCAGCATT'"
      ]
     },
     "execution_count": 13,
     "metadata": {},
     "output_type": "execute_result"
    }
   ],
   "source": [
    "def reverse_complement(sequence='AATGCTGACTCCTTCGTG'):   \n",
    "## reverse complement DNA sequence\n",
    "    complement = {'A': 'T', 'C': 'G', 'G': 'C', 'T': 'A'} \n",
    "    comp_seq = ''\n",
    "    for base in sequence: \n",
    "        comp_seq += complement[base]\n",
    "    rev_comp_seq = comp_seq[::-1]    \n",
    "    return(rev_comp_seq)\n",
    "reverse_complement()"
   ]
  },
  {
   "cell_type": "markdown",
   "metadata": {},
   "source": [
    "# Homework: putting it all together.\n",
    "Proteins can be identified from a DNA sequence in a total of 6 different frames. Forward (5' --> 3') starting at 0, 1, or 2 nucleotide postitions in and the reverse complement (3' --> 5') starting at 0, 1, or 2 nucleotide postions into the seuqeunce. \n",
    "\n"
   ]
  },
  {
   "cell_type": "markdown",
   "metadata": {},
   "source": [
    "1) Write a python function called six_frame which returns each of the 6 frames as a dictionary with the form: dict={'f0', 'f1', 'f2', 'r0', 'r1', 'r2'} Hint: you can call on the reverse complement function that we wrote previously and use the function we wrote in class (get_protein) to help you think about how to tackle this problem. "
   ]
  },
  {
   "cell_type": "code",
   "execution_count": 43,
   "metadata": {},
   "outputs": [
    {
     "data": {
      "text/plain": [
       "{'f0': 'NADSFV*L',\n",
       " 'f1': 'MLTPSCD',\n",
       " 'f2': 'C*LLRVI',\n",
       " 'r0': '*SHEGVSI',\n",
       " 'r1': 'NHTKESA',\n",
       " 'r2': 'ITRRSQH'}"
      ]
     },
     "execution_count": 43,
     "metadata": {},
     "output_type": "execute_result"
    }
   ],
   "source": [
    "def six_frame(sequence='AATGCTGACTCCTTCGTGTGATTA'):\n",
    "    six_frame_dict = {}\n",
    "    rev_sequence = reverse_complement(sequence)\n",
    "    for direction, main_seq in zip(['F', 'R'], [sequence, rev_sequence]):\n",
    "        for start in range(3):\n",
    "            protein=''\n",
    "            for i in range(start, len(main_seq), 3):\n",
    "                codon = main_seq[i:i+3]\n",
    "                if len(codon)!=3:\n",
    "                    pass\n",
    "                else:\n",
    "                    protein += codon_dict[codon]\n",
    "            six_frame_dict[direction+str(start)]=protein\n",
    "    return(six_frame_dict)\n",
    "six_frame()\n"
   ]
  },
  {
   "cell_type": "markdown",
   "metadata": {},
   "source": [
    "2) Modify your six_frame function to allow users who know what translation frame they want to specify that as the output (F0, F1, etc.). However, make it so that if the user doesn't provide an input that it will output the dictionary as above. "
   ]
  },
  {
   "cell_type": "code",
   "execution_count": 62,
   "metadata": {},
   "outputs": [
    {
     "data": {
      "text/plain": [
       "'NADSFV*L'"
      ]
     },
     "execution_count": 62,
     "metadata": {},
     "output_type": "execute_result"
    }
   ],
   "source": [
    "def six_frame(sequence='AATGCTGACTCCTTCGTGTGATTA', frame=None):\n",
    "    six_frame_dict = {}\n",
    "    rev_sequence = reverse_complement(sequence)\n",
    "    for direction, main_seq in zip(['F', 'R'], [sequence, rev_sequence]):\n",
    "        for start in range(3):\n",
    "            protein=''\n",
    "            for i in range(start, len(main_seq), 3):\n",
    "                codon = main_seq[i:i+3]\n",
    "                if len(codon)!=3:\n",
    "                    pass\n",
    "                else:\n",
    "                    protein += codon_dict[codon]\n",
    "            six_frame_dict[direction+str(start)]=protein\n",
    "    if frame:\n",
    "        assert frame in six_frame_dict.keys()\n",
    "        return(six_frame_dict[frame])\n",
    "    else:\n",
    "        return(six_frame_dict)\n",
    "six_frame(frame='F0')"
   ]
  },
  {
   "cell_type": "code",
   "execution_count": null,
   "metadata": {},
   "outputs": [],
   "source": []
  },
  {
   "cell_type": "code",
   "execution_count": null,
   "metadata": {},
   "outputs": [],
   "source": [
    "def six_frame(sequence='AATGCTGACTCCTTCGTGTGATTA'):\n",
    "    six_frame_dict = {}\n",
    "    rev_sequence = reverse_complement(sequence)\n",
    "    for direction, main_seq in zip(['f', 'r'], [sequence, rev_sequence]):\n",
    "        for start in range(3):\n",
    "            protein=''\n",
    "            for i in range(start, len(main_seq), 3):\n",
    "                codon = main_seq[i:i+3]\n",
    "                if len(codon)!=3:\n",
    "                    pass\n",
    "                else:\n",
    "                    protein += codon_dict[codon]\n",
    "            six_frame_dict[direction+str(start)]=protein\n",
    "    return(six_frame_dict)\n",
    "six_frame()"
   ]
  },
  {
   "cell_type": "markdown",
   "metadata": {},
   "source": [
    "3) Not all organisms use the same 'codon' dictionary. Moreover, unique translations exist between organelles. Vertebrate and invertabrates mitocondria have a unique code. I have included examples of four different codon tables: 1) the standard eukaryotic (std-code.tab), 2) the verebrate mitochondrial (vert-mito.tab), 3) the invertebrate mitochondrial (invert-mito.tab), and 4) the cilliate mesodinium (meso-code.tab). "
   ]
  },
  {
   "cell_type": "code",
   "execution_count": 49,
   "metadata": {},
   "outputs": [
    {
     "ename": "SyntaxError",
     "evalue": "invalid syntax (<ipython-input-49-203f63a0da1a>, line 2)",
     "output_type": "error",
     "traceback": [
      "\u001b[0;36m  File \u001b[0;32m\"<ipython-input-49-203f63a0da1a>\"\u001b[0;36m, line \u001b[0;32m2\u001b[0m\n\u001b[0;31m    assert(set(sequence)) is in set('A', 'T','G', 'C'):\u001b[0m\n\u001b[0m                              ^\u001b[0m\n\u001b[0;31mSyntaxError\u001b[0m\u001b[0;31m:\u001b[0m invalid syntax\n"
     ]
    }
   ],
   "source": [
    "def six_frame(sequence='AATGCTGACTCCTTCGTG'):        \n",
    "    six_frame_dict = {}\n",
    "    rev_sequence = reverse_complement(sequence)\n",
    "    for direction, main_seq in zip(['f', 'r'], [sequence, rev_sequence]):\n",
    "        for start in range(3):\n",
    "            protein=''\n",
    "            for i in range(start, len(main_seq), 3):\n",
    "                codon = main_seq[i:i+3]\n",
    "                if len(codon)!=3:\n",
    "                    pass\n",
    "                else:\n",
    "                    protein += codon_dict[codon]\n",
    "            six_frame_dict[direction+str(start)]=protein\n",
    "    return(six_frame_dict)\n",
    "six_frame()\n"
   ]
  },
  {
   "cell_type": "code",
   "execution_count": null,
   "metadata": {},
   "outputs": [],
   "source": []
  },
  {
   "cell_type": "code",
   "execution_count": null,
   "metadata": {},
   "outputs": [],
   "source": []
  }
 ],
 "metadata": {
  "kernelspec": {
   "display_name": "Python 3",
   "language": "python",
   "name": "python3"
  },
  "language_info": {
   "codemirror_mode": {
    "name": "ipython",
    "version": 3
   },
   "file_extension": ".py",
   "mimetype": "text/x-python",
   "name": "python",
   "nbconvert_exporter": "python",
   "pygments_lexer": "ipython3",
   "version": "3.6.8"
  }
 },
 "nbformat": 4,
 "nbformat_minor": 2
}
