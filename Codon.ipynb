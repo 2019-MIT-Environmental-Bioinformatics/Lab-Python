{
 "cells": [
  {
   "cell_type": "code",
   "execution_count": 14,
   "metadata": {},
   "outputs": [],
   "source": []
  },
  {
   "cell_type": "code",
   "execution_count": 58,
   "metadata": {},
   "outputs": [],
   "source": [
    "codon_dict = {}\n",
    "with open('codon-tables/std-code.tab', 'r') as f:\n",
    "    for line in f:\n",
    "        trip, aa1, code3 = line.strip().split(' ')\n",
    "        codon_dict[trip] = aa1"
   ]
  },
  {
   "cell_type": "code",
   "execution_count": 59,
   "metadata": {},
   "outputs": [],
   "source": [
    "codon_dict_full = {}\n",
    "with open('codon-tables/std-code.tab', 'r') as f:\n",
    "    for line in f:\n",
    "        trip, aa1, code3 = line.strip().split(' ')\n",
    "        codon_dict_full[trip] = {'three-code': code3, 'one-code': aa1 }"
   ]
  },
  {
   "cell_type": "code",
   "execution_count": 63,
   "metadata": {},
   "outputs": [
    {
     "data": {
      "text/plain": [
       "'NADSFV'"
      ]
     },
     "execution_count": 63,
     "metadata": {},
     "output_type": "execute_result"
    }
   ],
   "source": [
    "def get_protein(sequence='AATGCTGACTCCTTCGTG'):\n",
    "## get protein sequence\n",
    "    protein=''\n",
    "    for i in range(0,len(sequence), 3):\n",
    "        codon = sequence[i:i+3]\n",
    "        protein += codon_dict[codon]\n",
    "    return(protein)\n",
    "get_protein()\n"
   ]
  },
  {
   "cell_type": "code",
   "execution_count": 77,
   "metadata": {},
   "outputs": [
    {
     "data": {
      "text/plain": [
       "'CACGAAGGAGTCAGCATT'"
      ]
     },
     "execution_count": 77,
     "metadata": {},
     "output_type": "execute_result"
    }
   ],
   "source": [
    "def reverse_complement(sequence='AATGCTGACTCCTTCGTG'):   \n",
    "## reverse complement DNA sequence\n",
    "    complement = {'A': 'T', 'C': 'G', 'G': 'C', 'T': 'A'} \n",
    "    comp_seq = ''\n",
    "    for base in sequence: \n",
    "        comp_seq += complement[base]\n",
    "    rev_comp_seq = comp_seq[::-1]    \n",
    "    return(rev_comp_seq)\n",
    "reverse_complement()"
   ]
  },
  {
   "cell_type": "code",
   "execution_count": 85,
   "metadata": {},
   "outputs": [
    {
     "data": {
      "text/plain": [
       "'NADSFV'"
      ]
     },
     "execution_count": 85,
     "metadata": {},
     "output_type": "execute_result"
    }
   ],
   "source": [
    "def get_protein(sequence='AATGCTGACTCCTTCGTG'):\n",
    "    protein=''\n",
    "    for i in range(0,len(sequence), 3):\n",
    "        codon = sequence[i:i+3]\n",
    "        if len(codon) !=3:\n",
    "            pass\n",
    "        else:\n",
    "            protein += codon_dict[codon]\n",
    "    return(protein)\n",
    "get_protein()\n"
   ]
  },
  {
   "cell_type": "raw",
   "metadata": {},
   "source": [
    "def get_protein(sequence='AATGCTGACTCCTTCGTG', start = 0):\n",
    "    protein=''\n",
    "    for i in range(0,len(sequence), 3):\n",
    "        codon = sequence[i:i+3]\n",
    "        if len(codon) !=3:\n",
    "            pass\n",
    "        else:\n",
    "            protein += codon_dict[codon]\n",
    "    return(protein)\n",
    "get_protein()\n",
    "\n"
   ]
  },
  {
   "cell_type": "code",
   "execution_count": null,
   "metadata": {},
   "outputs": [],
   "source": []
  },
  {
   "cell_type": "code",
   "execution_count": null,
   "metadata": {},
   "outputs": [],
   "source": []
  }
 ],
 "metadata": {
  "kernelspec": {
   "display_name": "Python 3",
   "language": "python",
   "name": "python3"
  },
  "language_info": {
   "codemirror_mode": {
    "name": "ipython",
    "version": 3
   },
   "file_extension": ".py",
   "mimetype": "text/x-python",
   "name": "python",
   "nbconvert_exporter": "python",
   "pygments_lexer": "ipython3",
   "version": "3.7.3"
  }
 },
 "nbformat": 4,
 "nbformat_minor": 2
}
