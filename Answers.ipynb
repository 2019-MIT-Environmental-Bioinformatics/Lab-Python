{
 "cells": [
  {
   "cell_type": "code",
   "execution_count": 4,
   "metadata": {},
   "outputs": [],
   "source": [
    "import pandas as pd"
   ]
  },
  {
   "cell_type": "markdown",
   "metadata": {},
   "source": [
    "# Read in codon dictionary"
   ]
  },
  {
   "cell_type": "code",
   "execution_count": 7,
   "metadata": {},
   "outputs": [],
   "source": [
    "codon_dict = {}\n",
    "with open('std-code.tab', 'r') as f:\n",
    "    for line in f:\n",
    "        trip, aa1, code3 = line.strip().split(' ')\n",
    "        codon_dict[trip] = aa1"
   ]
  },
  {
   "cell_type": "markdown",
   "metadata": {},
   "source": [
    "Read in codon diciontary with both 1 code letter and 3 code letter"
   ]
  },
  {
   "cell_type": "code",
   "execution_count": 8,
   "metadata": {},
   "outputs": [],
   "source": [
    "codon_dict_full = {}\n",
    "with open('std-code.tab', 'r') as f:\n",
    "    for line in f:\n",
    "        trip, aa1, code3 = line.strip().split(' ')\n",
    "        codon_dict_full[trip] = {'three-code': code3, 'one-code': aa1 }"
   ]
  },
  {
   "cell_type": "markdown",
   "metadata": {},
   "source": [
    "Read in codon dictionary with pandas\n",
    "Make sure that the column names are appropriate. Set the codon column to be the index"
   ]
  },
  {
   "cell_type": "code",
   "execution_count": 10,
   "metadata": {},
   "outputs": [],
   "source": [
    "df = pd.read_csv('std-code.tab',sep=' ', header=None)\n",
    "df.columns=['codon', 'amino acid', 'protein']\n",
    "df = df.set_index('codon')"
   ]
  },
  {
   "cell_type": "markdown",
   "metadata": {},
   "source": [
    "## In class: write a function *together* to convert a given sequence to amino acids"
   ]
  },
  {
   "cell_type": "code",
   "execution_count": 11,
   "metadata": {},
   "outputs": [
    {
     "data": {
      "text/plain": [
       "'NADSFV'"
      ]
     },
     "execution_count": 11,
     "metadata": {},
     "output_type": "execute_result"
    }
   ],
   "source": [
    "def get_protein(sequence='AATGCTGACTCCTTCGTG'):\n",
    "## get protein sequence\n",
    "    protein=''\n",
    "    for i in range(0,len(sequence), 3):\n",
    "        codon = sequence[i:i+3]\n",
    "        protein += codon_dict[codon]\n",
    "    return(protein)\n",
    "get_protein()\n"
   ]
  },
  {
   "cell_type": "markdown",
   "metadata": {},
   "source": [
    "## In class: fix the function so that it can work with sequences that are not divisible by 3. \n",
    "\n"
   ]
  },
  {
   "cell_type": "code",
   "execution_count": 12,
   "metadata": {},
   "outputs": [
    {
     "data": {
      "text/plain": [
       "'NADSFV'"
      ]
     },
     "execution_count": 12,
     "metadata": {},
     "output_type": "execute_result"
    }
   ],
   "source": [
    "def get_protein(sequence='AATGCTGACTCCTTCGTG'):\n",
    "## get protein sequence\n",
    "    protein=''\n",
    "    for i in range(0,len(sequence), 3):\n",
    "        codon = sequence[i:i+3]\n",
    "        if len(codon)!=3:\n",
    "            pass\n",
    "        else:\n",
    "            protein += codon_dict[codon]\n",
    "    return(protein)\n",
    "get_protein()\n"
   ]
  },
  {
   "cell_type": "markdown",
   "metadata": {},
   "source": [
    "# In class: Limit input with assertion statement"
   ]
  },
  {
   "cell_type": "code",
   "execution_count": 13,
   "metadata": {},
   "outputs": [
    {
     "data": {
      "text/plain": [
       "'I'"
      ]
     },
     "execution_count": 13,
     "metadata": {},
     "output_type": "execute_result"
    }
   ],
   "source": [
    "def get_protein(sequence='AATGCTGACTCCTTCGTGQ'):\n",
    "## get protein sequence\n",
    "    assert(set(sequence).issubset(set(['A', 'C','T','G']))), \"Sequence must consist only of A, C, T, G\"\n",
    "    protein=''\n",
    "    for i in range(0,len(sequence), 3):\n",
    "        codon = sequence[i:i+3]\n",
    "        if len(codon)!=3:\n",
    "            pass\n",
    "        else:\n",
    "            protein += codon_dict[codon]\n",
    "    return(protein)\n",
    "get_protein('ATCG')"
   ]
  },
  {
   "cell_type": "markdown",
   "metadata": {},
   "source": [
    "# In class: write a function together to reverse complement a DNA sequence "
   ]
  },
  {
   "cell_type": "code",
   "execution_count": 14,
   "metadata": {},
   "outputs": [
    {
     "data": {
      "text/plain": [
       "'CACGAAGGAGTCAGCATT'"
      ]
     },
     "execution_count": 14,
     "metadata": {},
     "output_type": "execute_result"
    }
   ],
   "source": [
    "def reverse_complement(sequence='AATGCTGACTCCTTCGTG'):   \n",
    "## reverse complement DNA sequence\n",
    "    complement = {'A': 'T', 'C': 'G', 'G': 'C', 'T': 'A'} \n",
    "    comp_seq = ''\n",
    "    for base in sequence: \n",
    "        comp_seq += complement[base]\n",
    "    rev_comp_seq = comp_seq[::-1]    \n",
    "    return(rev_comp_seq)\n",
    "reverse_complement()"
   ]
  }
 ],
 "metadata": {
  "kernelspec": {
   "display_name": "Python 3",
   "language": "python",
   "name": "python3"
  },
  "language_info": {
   "codemirror_mode": {
    "name": "ipython",
    "version": 3
   },
   "file_extension": ".py",
   "mimetype": "text/x-python",
   "name": "python",
   "nbconvert_exporter": "python",
   "pygments_lexer": "ipython3",
   "version": "3.6.8"
  }
 },
 "nbformat": 4,
 "nbformat_minor": 2
}
